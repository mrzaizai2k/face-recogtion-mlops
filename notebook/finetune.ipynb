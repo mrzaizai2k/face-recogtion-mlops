{
 "cells": [
  {
   "cell_type": "markdown",
   "metadata": {},
   "source": [
    "# Face detection and recognition training pipeline\n",
    "\n",
    "The following example illustrates how to fine-tune an InceptionResnetV1 model on your own dataset. This will mostly follow standard pytorch training patterns."
   ]
  },
  {
   "cell_type": "code",
   "execution_count": 1,
   "metadata": {},
   "outputs": [
    {
     "name": "stdout",
     "output_type": "stream",
     "text": [
      "d:\\Project\\face-recogtion-mlops\\notebook\n"
     ]
    }
   ],
   "source": [
    "import os\n",
    "try:\n",
    "    print(file_path)\n",
    "except:\n",
    "    file_path = os.path.abspath('')\n",
    "    os.chdir(os.path.dirname(file_path))\n",
    "    print(file_path)"
   ]
  },
  {
   "cell_type": "code",
   "execution_count": 2,
   "metadata": {},
   "outputs": [
    {
     "name": "stderr",
     "output_type": "stream",
     "text": [
      "d:\\Project\\face-recogtion-mlops\\.venv\\lib\\site-packages\\tqdm\\auto.py:21: TqdmWarning: IProgress not found. Please update jupyter and ipywidgets. See https://ipywidgets.readthedocs.io/en/stable/user_install.html\n",
      "  from .autonotebook import tqdm as notebook_tqdm\n"
     ]
    }
   ],
   "source": [
    "from facenet_pytorch import MTCNN, InceptionResnetV1, fixed_image_standardization, training\n",
    "import torch\n",
    "from torch.utils.data import DataLoader, SubsetRandomSampler\n",
    "from torch import optim\n",
    "from torch.optim.lr_scheduler import MultiStepLR\n",
    "from torchvision import datasets, transforms\n",
    "import numpy as np\n",
    "import os"
   ]
  },
  {
   "cell_type": "markdown",
   "metadata": {},
   "source": [
    "#### Define run parameters\n",
    "\n",
    "The dataset should follow the VGGFace2/ImageNet-style directory layout. Modify `data_dir` to the location of the dataset on wish to finetune on."
   ]
  },
  {
   "cell_type": "code",
   "execution_count": 3,
   "metadata": {},
   "outputs": [
    {
     "name": "stdout",
     "output_type": "stream",
     "text": [
      "workers 0\n"
     ]
    }
   ],
   "source": [
    "data_dir = './data/facenet_vn'\n",
    "\n",
    "batch_size = 32\n",
    "epochs = 1\n",
    "workers = 0 if os.name == 'nt' else 8\n",
    "print(\"workers\", workers)"
   ]
  },
  {
   "cell_type": "markdown",
   "metadata": {},
   "source": [
    "#### Determine if an nvidia GPU is available"
   ]
  },
  {
   "cell_type": "code",
   "execution_count": 4,
   "metadata": {},
   "outputs": [
    {
     "name": "stdout",
     "output_type": "stream",
     "text": [
      "Running on device: cpu\n"
     ]
    }
   ],
   "source": [
    "# device = torch.device('cuda:0' if torch.cuda.is_available() else 'cpu')\n",
    "device = 'cpu'\n",
    "print('Running on device: {}'.format(device))"
   ]
  },
  {
   "cell_type": "markdown",
   "metadata": {},
   "source": [
    "#### Define MTCNN module\n",
    "\n",
    "See `help(MTCNN)` for more details."
   ]
  },
  {
   "cell_type": "code",
   "execution_count": 5,
   "metadata": {},
   "outputs": [],
   "source": [
    "# help(MTCNN)"
   ]
  },
  {
   "cell_type": "code",
   "execution_count": 6,
   "metadata": {},
   "outputs": [],
   "source": [
    "mtcnn = MTCNN(\n",
    "    image_size=160, margin=0, min_face_size=20,\n",
    "    thresholds=[0.6, 0.7, 0.7], factor=0.709, post_process=True, select_largest=True,\n",
    "    device=device\n",
    ")"
   ]
  },
  {
   "cell_type": "markdown",
   "metadata": {},
   "source": [
    "#### Perfom MTCNN facial detection\n",
    "\n",
    "Iterate through the DataLoader object and obtain cropped faces."
   ]
  },
  {
   "cell_type": "code",
   "execution_count": 7,
   "metadata": {
    "scrolled": true
   },
   "outputs": [],
   "source": [
    "dataset = datasets.ImageFolder(data_dir, transform=transforms.Resize((512,512)))\n",
    "dataset.samples = [\n",
    "    (p, p.replace(data_dir, data_dir + '_cropped'))\n",
    "        for p, _ in dataset.samples\n",
    "]\n",
    "        \n",
    "loader = DataLoader(\n",
    "    dataset,\n",
    "    num_workers=workers,\n",
    "    batch_size=batch_size,\n",
    "    collate_fn=training.collate_pil\n",
    ")\n",
    "\n",
    "# for i, (x, y) in enumerate(loader):\n",
    "#     try:\n",
    "#         mtcnn(x, save_path=y)\n",
    "#         print('\\rBatch {} of {}'.format(i + 1, len(loader)), end='')\n",
    "#     except:\n",
    "#         continue\n",
    "    \n",
    "# # Remove mtcnn to reduce GPU memory usage\n",
    "# del mtcnn"
   ]
  },
  {
   "cell_type": "markdown",
   "metadata": {},
   "source": [
    "#### Define Inception Resnet V1 module\n",
    "\n",
    "See `help(InceptionResnetV1)` for more details."
   ]
  },
  {
   "cell_type": "code",
   "execution_count": 8,
   "metadata": {},
   "outputs": [],
   "source": [
    "resnet = InceptionResnetV1(\n",
    "    classify=True,\n",
    "    pretrained='vggface2',\n",
    "    num_classes=len(dataset.class_to_idx)\n",
    ").to(device)"
   ]
  },
  {
   "cell_type": "code",
   "execution_count": 9,
   "metadata": {},
   "outputs": [
    {
     "data": {
      "text/plain": [
       "======================================================================\n",
       "Layer (type:depth-idx)                        Param #\n",
       "======================================================================\n",
       "InceptionResnetV1                             --\n",
       "├─BasicConv2d: 1-1                            --\n",
       "│    └─Conv2d: 2-1                            864\n",
       "│    └─BatchNorm2d: 2-2                       64\n",
       "│    └─ReLU: 2-3                              --\n",
       "├─BasicConv2d: 1-2                            --\n",
       "│    └─Conv2d: 2-4                            9,216\n",
       "│    └─BatchNorm2d: 2-5                       64\n",
       "│    └─ReLU: 2-6                              --\n",
       "├─BasicConv2d: 1-3                            --\n",
       "│    └─Conv2d: 2-7                            18,432\n",
       "│    └─BatchNorm2d: 2-8                       128\n",
       "│    └─ReLU: 2-9                              --\n",
       "├─MaxPool2d: 1-4                              --\n",
       "├─BasicConv2d: 1-5                            --\n",
       "│    └─Conv2d: 2-10                           5,120\n",
       "│    └─BatchNorm2d: 2-11                      160\n",
       "│    └─ReLU: 2-12                             --\n",
       "├─BasicConv2d: 1-6                            --\n",
       "│    └─Conv2d: 2-13                           138,240\n",
       "│    └─BatchNorm2d: 2-14                      384\n",
       "│    └─ReLU: 2-15                             --\n",
       "├─BasicConv2d: 1-7                            --\n",
       "│    └─Conv2d: 2-16                           442,368\n",
       "│    └─BatchNorm2d: 2-17                      512\n",
       "│    └─ReLU: 2-18                             --\n",
       "├─Sequential: 1-8                             --\n",
       "│    └─Block35: 2-19                          --\n",
       "│    │    └─BasicConv2d: 3-1                  8,256\n",
       "│    │    └─Sequential: 3-2                   17,536\n",
       "│    │    └─Sequential: 3-3                   26,816\n",
       "│    │    └─Conv2d: 3-4                       24,832\n",
       "│    │    └─ReLU: 3-5                         --\n",
       "│    └─Block35: 2-20                          --\n",
       "│    │    └─BasicConv2d: 3-6                  8,256\n",
       "│    │    └─Sequential: 3-7                   17,536\n",
       "│    │    └─Sequential: 3-8                   26,816\n",
       "│    │    └─Conv2d: 3-9                       24,832\n",
       "│    │    └─ReLU: 3-10                        --\n",
       "│    └─Block35: 2-21                          --\n",
       "│    │    └─BasicConv2d: 3-11                 8,256\n",
       "│    │    └─Sequential: 3-12                  17,536\n",
       "│    │    └─Sequential: 3-13                  26,816\n",
       "│    │    └─Conv2d: 3-14                      24,832\n",
       "│    │    └─ReLU: 3-15                        --\n",
       "│    └─Block35: 2-22                          --\n",
       "│    │    └─BasicConv2d: 3-16                 8,256\n",
       "│    │    └─Sequential: 3-17                  17,536\n",
       "│    │    └─Sequential: 3-18                  26,816\n",
       "│    │    └─Conv2d: 3-19                      24,832\n",
       "│    │    └─ReLU: 3-20                        --\n",
       "│    └─Block35: 2-23                          --\n",
       "│    │    └─BasicConv2d: 3-21                 8,256\n",
       "│    │    └─Sequential: 3-22                  17,536\n",
       "│    │    └─Sequential: 3-23                  26,816\n",
       "│    │    └─Conv2d: 3-24                      24,832\n",
       "│    │    └─ReLU: 3-25                        --\n",
       "├─Mixed_6a: 1-9                               --\n",
       "│    └─BasicConv2d: 2-24                      --\n",
       "│    │    └─Conv2d: 3-26                      884,736\n",
       "│    │    └─BatchNorm2d: 3-27                 768\n",
       "│    │    └─ReLU: 3-28                        --\n",
       "│    └─Sequential: 2-25                       --\n",
       "│    │    └─BasicConv2d: 3-29                 49,536\n",
       "│    │    └─BasicConv2d: 3-30                 332,160\n",
       "│    │    └─BasicConv2d: 3-31                 442,880\n",
       "│    └─MaxPool2d: 2-26                        --\n",
       "├─Sequential: 1-10                            --\n",
       "│    └─Block17: 2-27                          --\n",
       "│    │    └─BasicConv2d: 3-32                 114,944\n",
       "│    │    └─Sequential: 3-33                  344,832\n",
       "│    │    └─Conv2d: 3-34                      230,272\n",
       "│    │    └─ReLU: 3-35                        --\n",
       "│    └─Block17: 2-28                          --\n",
       "│    │    └─BasicConv2d: 3-36                 114,944\n",
       "│    │    └─Sequential: 3-37                  344,832\n",
       "│    │    └─Conv2d: 3-38                      230,272\n",
       "│    │    └─ReLU: 3-39                        --\n",
       "│    └─Block17: 2-29                          --\n",
       "│    │    └─BasicConv2d: 3-40                 114,944\n",
       "│    │    └─Sequential: 3-41                  344,832\n",
       "│    │    └─Conv2d: 3-42                      230,272\n",
       "│    │    └─ReLU: 3-43                        --\n",
       "│    └─Block17: 2-30                          --\n",
       "│    │    └─BasicConv2d: 3-44                 114,944\n",
       "│    │    └─Sequential: 3-45                  344,832\n",
       "│    │    └─Conv2d: 3-46                      230,272\n",
       "│    │    └─ReLU: 3-47                        --\n",
       "│    └─Block17: 2-31                          --\n",
       "│    │    └─BasicConv2d: 3-48                 114,944\n",
       "│    │    └─Sequential: 3-49                  344,832\n",
       "│    │    └─Conv2d: 3-50                      230,272\n",
       "│    │    └─ReLU: 3-51                        --\n",
       "│    └─Block17: 2-32                          --\n",
       "│    │    └─BasicConv2d: 3-52                 114,944\n",
       "│    │    └─Sequential: 3-53                  344,832\n",
       "│    │    └─Conv2d: 3-54                      230,272\n",
       "│    │    └─ReLU: 3-55                        --\n",
       "│    └─Block17: 2-33                          --\n",
       "│    │    └─BasicConv2d: 3-56                 114,944\n",
       "│    │    └─Sequential: 3-57                  344,832\n",
       "│    │    └─Conv2d: 3-58                      230,272\n",
       "│    │    └─ReLU: 3-59                        --\n",
       "│    └─Block17: 2-34                          --\n",
       "│    │    └─BasicConv2d: 3-60                 114,944\n",
       "│    │    └─Sequential: 3-61                  344,832\n",
       "│    │    └─Conv2d: 3-62                      230,272\n",
       "│    │    └─ReLU: 3-63                        --\n",
       "│    └─Block17: 2-35                          --\n",
       "│    │    └─BasicConv2d: 3-64                 114,944\n",
       "│    │    └─Sequential: 3-65                  344,832\n",
       "│    │    └─Conv2d: 3-66                      230,272\n",
       "│    │    └─ReLU: 3-67                        --\n",
       "│    └─Block17: 2-36                          --\n",
       "│    │    └─BasicConv2d: 3-68                 114,944\n",
       "│    │    └─Sequential: 3-69                  344,832\n",
       "│    │    └─Conv2d: 3-70                      230,272\n",
       "│    │    └─ReLU: 3-71                        --\n",
       "├─Mixed_7a: 1-11                              --\n",
       "│    └─Sequential: 2-37                       --\n",
       "│    │    └─BasicConv2d: 3-72                 229,888\n",
       "│    │    └─BasicConv2d: 3-73                 885,504\n",
       "│    └─Sequential: 2-38                       --\n",
       "│    │    └─BasicConv2d: 3-74                 229,888\n",
       "│    │    └─BasicConv2d: 3-75                 590,336\n",
       "│    └─Sequential: 2-39                       --\n",
       "│    │    └─BasicConv2d: 3-76                 229,888\n",
       "│    │    └─BasicConv2d: 3-77                 590,336\n",
       "│    │    └─BasicConv2d: 3-78                 590,336\n",
       "│    └─MaxPool2d: 2-40                        --\n",
       "├─Sequential: 1-12                            --\n",
       "│    └─Block8: 2-41                           --\n",
       "│    │    └─BasicConv2d: 3-79                 344,448\n",
       "│    │    └─Sequential: 3-80                  566,400\n",
       "│    │    └─Conv2d: 3-81                      689,920\n",
       "│    │    └─ReLU: 3-82                        --\n",
       "│    └─Block8: 2-42                           --\n",
       "│    │    └─BasicConv2d: 3-83                 344,448\n",
       "│    │    └─Sequential: 3-84                  566,400\n",
       "│    │    └─Conv2d: 3-85                      689,920\n",
       "│    │    └─ReLU: 3-86                        --\n",
       "│    └─Block8: 2-43                           --\n",
       "│    │    └─BasicConv2d: 3-87                 344,448\n",
       "│    │    └─Sequential: 3-88                  566,400\n",
       "│    │    └─Conv2d: 3-89                      689,920\n",
       "│    │    └─ReLU: 3-90                        --\n",
       "│    └─Block8: 2-44                           --\n",
       "│    │    └─BasicConv2d: 3-91                 344,448\n",
       "│    │    └─Sequential: 3-92                  566,400\n",
       "│    │    └─Conv2d: 3-93                      689,920\n",
       "│    │    └─ReLU: 3-94                        --\n",
       "│    └─Block8: 2-45                           --\n",
       "│    │    └─BasicConv2d: 3-95                 344,448\n",
       "│    │    └─Sequential: 3-96                  566,400\n",
       "│    │    └─Conv2d: 3-97                      689,920\n",
       "│    │    └─ReLU: 3-98                        --\n",
       "├─Block8: 1-13                                --\n",
       "│    └─BasicConv2d: 2-46                      --\n",
       "│    │    └─Conv2d: 3-99                      344,064\n",
       "│    │    └─BatchNorm2d: 3-100                384\n",
       "│    │    └─ReLU: 3-101                       --\n",
       "│    └─Sequential: 2-47                       --\n",
       "│    │    └─BasicConv2d: 3-102                344,448\n",
       "│    │    └─BasicConv2d: 3-103                110,976\n",
       "│    │    └─BasicConv2d: 3-104                110,976\n",
       "│    └─Conv2d: 2-48                           689,920\n",
       "├─AdaptiveAvgPool2d: 1-14                     --\n",
       "├─Dropout: 1-15                               --\n",
       "├─Linear: 1-16                                917,504\n",
       "├─BatchNorm1d: 1-17                           1,024\n",
       "├─Linear: 1-18                                513,000\n",
       "======================================================================\n",
       "Total params: 23,995,624\n",
       "Trainable params: 23,995,624\n",
       "Non-trainable params: 0\n",
       "======================================================================"
      ]
     },
     "execution_count": 9,
     "metadata": {},
     "output_type": "execute_result"
    }
   ],
   "source": [
    "from torchinfo import summary\n",
    "summary(resnet)"
   ]
  },
  {
   "cell_type": "markdown",
   "metadata": {},
   "source": [
    "#### Define optimizer, scheduler, dataset, and dataloader"
   ]
  },
  {
   "cell_type": "code",
   "execution_count": 10,
   "metadata": {},
   "outputs": [],
   "source": [
    "optimizer = optim.Adam(resnet.parameters(), lr=0.001)\n",
    "scheduler = MultiStepLR(optimizer, [5, 10])\n",
    "\n",
    "trans = transforms.Compose([\n",
    "    np.float32,\n",
    "    transforms.ToTensor(),\n",
    "    fixed_image_standardization\n",
    "])\n",
    "dataset = datasets.ImageFolder(data_dir + '_cropped', transform=trans)\n",
    "img_inds = np.arange(len(dataset))\n",
    "np.random.shuffle(img_inds)\n",
    "train_inds = img_inds[:int(0.8 * len(img_inds))]\n",
    "val_inds = img_inds[int(0.8 * len(img_inds)):]\n",
    "\n",
    "train_loader = DataLoader(\n",
    "    dataset,\n",
    "    num_workers=workers,\n",
    "    batch_size=batch_size,\n",
    "    sampler=SubsetRandomSampler(train_inds)\n",
    ")\n",
    "val_loader = DataLoader(\n",
    "    dataset,\n",
    "    num_workers=workers,\n",
    "    batch_size=batch_size,\n",
    "    sampler=SubsetRandomSampler(val_inds)\n",
    ")"
   ]
  },
  {
   "cell_type": "markdown",
   "metadata": {},
   "source": [
    "#### Define loss and evaluation functions"
   ]
  },
  {
   "cell_type": "code",
   "execution_count": 11,
   "metadata": {},
   "outputs": [],
   "source": [
    "loss_fn = torch.nn.CrossEntropyLoss()\n",
    "metrics = {\n",
    "    'fps': training.BatchTimer(),\n",
    "    'acc': training.accuracy\n",
    "}"
   ]
  },
  {
   "cell_type": "markdown",
   "metadata": {},
   "source": [
    "#### Train model"
   ]
  },
  {
   "cell_type": "code",
   "execution_count": 12,
   "metadata": {},
   "outputs": [
    {
     "name": "stdout",
     "output_type": "stream",
     "text": [
      "\n",
      "\n",
      "Initial\n",
      "----------\n",
      "Valid |    30/30   | loss:    7.0594 | fps:   51.0016 | acc:    0.0000   \n",
      "\n",
      "Epoch 1/1\n",
      "----------\n",
      "Train |   118/118  | loss:    6.6813 | fps:   20.7464 | acc:    0.0074   \n",
      "Valid |    30/30   | loss:    6.8170 | fps:   83.2964 | acc:    0.0094   \n"
     ]
    }
   ],
   "source": [
    "# writer = SummaryWriter()\n",
    "# writer.iteration, writer.interval = 0, 10\n",
    "\n",
    "print('\\n\\nInitial')\n",
    "print('-' * 10)\n",
    "resnet.eval()\n",
    "training.pass_epoch(\n",
    "    resnet, loss_fn, val_loader,\n",
    "    batch_metrics=metrics, show_running=True, device=device,\n",
    "    # writer=writer\n",
    ")\n",
    "\n",
    "for epoch in range(epochs):\n",
    "    print('\\nEpoch {}/{}'.format(epoch + 1, epochs))\n",
    "    print('-' * 10)\n",
    "\n",
    "    resnet.train()\n",
    "    training.pass_epoch(\n",
    "        resnet, loss_fn, train_loader, optimizer, scheduler,\n",
    "        batch_metrics=metrics, show_running=True, device=device,\n",
    "        # writer=writer\n",
    "    )\n",
    "\n",
    "    resnet.eval()\n",
    "    training.pass_epoch(\n",
    "        resnet, loss_fn, val_loader,\n",
    "        batch_metrics=metrics, show_running=True, device=device,\n",
    "        # writer=writer\n",
    "    )\n",
    "\n",
    "# writer.close()"
   ]
  },
  {
   "cell_type": "code",
   "execution_count": 13,
   "metadata": {},
   "outputs": [
    {
     "ename": "AttributeError",
     "evalue": "module 'tensorflow._api.v2.compat.v1' has no attribute 'prepare'",
     "output_type": "error",
     "traceback": [
      "\u001b[1;31m---------------------------------------------------------------------------\u001b[0m",
      "\u001b[1;31mAttributeError\u001b[0m                            Traceback (most recent call last)",
      "Cell \u001b[1;32mIn[13], line 18\u001b[0m\n\u001b[0;32m     15\u001b[0m onnx_model \u001b[38;5;241m=\u001b[39m onnx\u001b[38;5;241m.\u001b[39mload(onnx_path)\n\u001b[0;32m     17\u001b[0m \u001b[38;5;66;03m# Convert ONNX model to TensorFlow format\u001b[39;00m\n\u001b[1;32m---> 18\u001b[0m tf_rep \u001b[38;5;241m=\u001b[39m \u001b[43mtf\u001b[49m\u001b[38;5;241;43m.\u001b[39;49m\u001b[43mcompat\u001b[49m\u001b[38;5;241;43m.\u001b[39;49m\u001b[43mv1\u001b[49m\u001b[38;5;241;43m.\u001b[39;49m\u001b[43mprepare\u001b[49m(onnx_model)\n\u001b[0;32m     20\u001b[0m \u001b[38;5;66;03m# Save TensorFlow model in .pb format\u001b[39;00m\n\u001b[0;32m     21\u001b[0m tf_pb_path \u001b[38;5;241m=\u001b[39m root_dir \u001b[38;5;241m+\u001b[39m \u001b[38;5;124m'\u001b[39m\u001b[38;5;124mmodel_19_6.pb\u001b[39m\u001b[38;5;124m'\u001b[39m\n",
      "File \u001b[1;32md:\\Project\\face-recogtion-mlops\\.venv\\lib\\site-packages\\tensorflow\\python\\util\\module_wrapper.py:232\u001b[0m, in \u001b[0;36mTFModuleWrapper._getattr\u001b[1;34m(self, name)\u001b[0m\n\u001b[0;32m    220\u001b[0m \u001b[38;5;250m\u001b[39m\u001b[38;5;124;03m\"\"\"Imports and caches pre-defined API.\u001b[39;00m\n\u001b[0;32m    221\u001b[0m \n\u001b[0;32m    222\u001b[0m \u001b[38;5;124;03mWarns if necessary.\u001b[39;00m\n\u001b[1;32m   (...)\u001b[0m\n\u001b[0;32m    229\u001b[0m \u001b[38;5;124;03mfails.\u001b[39;00m\n\u001b[0;32m    230\u001b[0m \u001b[38;5;124;03m\"\"\"\u001b[39;00m\n\u001b[0;32m    231\u001b[0m \u001b[38;5;28;01mtry\u001b[39;00m:\n\u001b[1;32m--> 232\u001b[0m   attr \u001b[38;5;241m=\u001b[39m \u001b[38;5;28;43mgetattr\u001b[39;49m\u001b[43m(\u001b[49m\u001b[38;5;28;43mself\u001b[39;49m\u001b[38;5;241;43m.\u001b[39;49m\u001b[43m_tfmw_wrapped_module\u001b[49m\u001b[43m,\u001b[49m\u001b[43m \u001b[49m\u001b[43mname\u001b[49m\u001b[43m)\u001b[49m\n\u001b[0;32m    233\u001b[0m \u001b[38;5;28;01mexcept\u001b[39;00m \u001b[38;5;167;01mAttributeError\u001b[39;00m:\n\u001b[0;32m    234\u001b[0m \u001b[38;5;66;03m# Placeholder for Google-internal contrib error\u001b[39;00m\n\u001b[0;32m    236\u001b[0m   \u001b[38;5;28;01mif\u001b[39;00m \u001b[38;5;129;01mnot\u001b[39;00m \u001b[38;5;28mself\u001b[39m\u001b[38;5;241m.\u001b[39m_tfmw_public_apis:\n",
      "\u001b[1;31mAttributeError\u001b[0m: module 'tensorflow._api.v2.compat.v1' has no attribute 'prepare'"
     ]
    }
   ],
   "source": [
    "resnet.eval()\n",
    "# Example input (dummy input to export the model)\n",
    "dummy_input = torch.randn(1, 3, 224, 224)  # Example input (1 batch of 3-channel 224x224 images)\n",
    "\n",
    "root_dir =\"models/facenet_tune/\"\n",
    "# Export the PyTorch model to ONNX\n",
    "onnx_path = root_dir+ 'resnet_model.onnx'\n",
    "torch.onnx.export(resnet, dummy_input, onnx_path, verbose=True)\n",
    "\n",
    "# Convert ONNX model to TensorFlow's .pb format using tf.compat.v1\n",
    "import tensorflow as tf\n",
    "import onnx\n",
    "\n",
    "# Load ONNX model\n",
    "onnx_model = onnx.load(onnx_path)\n",
    "\n",
    "# Convert ONNX model to TensorFlow format\n",
    "tf_rep = tf.compat.v1.prepare(onnx_model)\n",
    "\n",
    "# Save TensorFlow model in .pb format\n",
    "tf_pb_path = root_dir + 'model_19_6.pb'\n",
    "tf_rep.export_graph(tf_pb_path)"
   ]
  }
 ],
 "metadata": {
  "kernelspec": {
   "display_name": "Python 3",
   "language": "python",
   "name": "python3"
  },
  "language_info": {
   "codemirror_mode": {
    "name": "ipython",
    "version": 3
   },
   "file_extension": ".py",
   "mimetype": "text/x-python",
   "name": "python",
   "nbconvert_exporter": "python",
   "pygments_lexer": "ipython3",
   "version": "3.10.11"
  }
 },
 "nbformat": 4,
 "nbformat_minor": 2
}
